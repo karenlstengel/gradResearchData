{
 "cells": [
  {
   "cell_type": "code",
   "execution_count": 1,
   "id": "37ff95c1",
   "metadata": {},
   "outputs": [],
   "source": [
    "import numpy as np\n",
    "import matplotlib.pyplot as plt\n",
    "import pandas as pd\n",
    "import itertools\n",
    "import altair as alt"
   ]
  },
  {
   "cell_type": "code",
   "execution_count": 3,
   "id": "5fb91ae6",
   "metadata": {},
   "outputs": [
    {
     "data": {
      "text/html": [
       "<div>\n",
       "<style scoped>\n",
       "    .dataframe tbody tr th:only-of-type {\n",
       "        vertical-align: middle;\n",
       "    }\n",
       "\n",
       "    .dataframe tbody tr th {\n",
       "        vertical-align: top;\n",
       "    }\n",
       "\n",
       "    .dataframe thead th {\n",
       "        text-align: right;\n",
       "    }\n",
       "</style>\n",
       "<table border=\"1\" class=\"dataframe\">\n",
       "  <thead>\n",
       "    <tr style=\"text-align: right;\">\n",
       "      <th></th>\n",
       "      <th>Unnamed: 0</th>\n",
       "      <th>-E</th>\n",
       "      <th>-nu</th>\n",
       "      <th>-mu_1</th>\n",
       "      <th>-K</th>\n",
       "      <th>-mu_2</th>\n",
       "      <th>-problem</th>\n",
       "      <th>-bc_clamp</th>\n",
       "      <th>-bc_clamp_1_rotate</th>\n",
       "      <th>-bc_clamp_2_rotate</th>\n",
       "      <th>-bc_clamp_3_rotate</th>\n",
       "      <th>-bc_clamp_4_rotate</th>\n",
       "      <th>-bc_clamp_5_rotate</th>\n",
       "      <th>-bc_clamp_6_rotate</th>\n",
       "      <th>Configure</th>\n",
       "      <th>Load</th>\n",
       "      <th>Strain</th>\n",
       "      <th>filename</th>\n",
       "    </tr>\n",
       "  </thead>\n",
       "  <tbody>\n",
       "    <tr>\n",
       "      <th>0</th>\n",
       "      <td>0</td>\n",
       "      <td>2.8</td>\n",
       "      <td>0.4</td>\n",
       "      <td>1.0</td>\n",
       "      <td>4.667</td>\n",
       "      <td>0</td>\n",
       "      <td>FSInitial-NH1</td>\n",
       "      <td>1,2,3,4,5,6</td>\n",
       "      <td>0,0,1,0,.3</td>\n",
       "      <td>0,0,1,0,.3</td>\n",
       "      <td>0,0,1,0,.3</td>\n",
       "      <td>0,0,1,0,.3</td>\n",
       "      <td>0,0,1,0,.3</td>\n",
       "      <td>0,0,1,0,.3</td>\n",
       "      <td>PETSC_ARCH=libceed --download-{hdf5,netcdf,pne...</td>\n",
       "      <td>[0, 1, 2, 3, 4, 5, 6, 7, 8, 9, 10, 11, 12, 13,...</td>\n",
       "      <td>[0.0001850540540606, 0.0007402038749614, 0.001...</td>\n",
       "      <td>libCEED/strain_plot/20210602_FSInitial-NH1/log...</td>\n",
       "    </tr>\n",
       "    <tr>\n",
       "      <th>1</th>\n",
       "      <td>1</td>\n",
       "      <td>0.5</td>\n",
       "      <td>0.4</td>\n",
       "      <td>0.5</td>\n",
       "      <td>10.000</td>\n",
       "      <td>0</td>\n",
       "      <td>FSInitial-MR1</td>\n",
       "      <td>1,2,3,4,5,6</td>\n",
       "      <td>0,0,1,0,.3</td>\n",
       "      <td>0,0,1,0,.3</td>\n",
       "      <td>0,0,1,0,.3</td>\n",
       "      <td>0,0,1,0,.3</td>\n",
       "      <td>0,0,1,0,.3</td>\n",
       "      <td>0,0,1,0,.3</td>\n",
       "      <td>PETSC_ARCH=libceed --download-{hdf5,netcdf,pne...</td>\n",
       "      <td>[0, 1, 2, 3, 4, 5, 6, 7, 8, 9, 10, 11, 12, 13,...</td>\n",
       "      <td>[8.963585792095e-05, 0.000358541059542, 0.0008...</td>\n",
       "      <td>libCEED/strain_plot/MR/log.txt</td>\n",
       "    </tr>\n",
       "    <tr>\n",
       "      <th>2</th>\n",
       "      <td>2</td>\n",
       "      <td>0.5</td>\n",
       "      <td>0.4</td>\n",
       "      <td>0.5</td>\n",
       "      <td>10.000</td>\n",
       "      <td>0</td>\n",
       "      <td>FSInitial-NH1</td>\n",
       "      <td>1,2,3,4,5,6</td>\n",
       "      <td>0,0,1,0,.3</td>\n",
       "      <td>0,0,1,0,.3</td>\n",
       "      <td>0,0,1,0,.3</td>\n",
       "      <td>0,0,1,0,.3</td>\n",
       "      <td>0,0,1,0,.3</td>\n",
       "      <td>0,0,1,0,.3</td>\n",
       "      <td>PETSC_ARCH=libceed --download-{hdf5,netcdf,pne...</td>\n",
       "      <td>[0, 1, 2, 3, 4, 5, 6, 7, 8, 9, 10, 11, 12, 13,...</td>\n",
       "      <td>[3.828396436549e-05, 0.0001530158452229, 0.000...</td>\n",
       "      <td>libCEED/strain_plot/NH/log.txt</td>\n",
       "    </tr>\n",
       "    <tr>\n",
       "      <th>3</th>\n",
       "      <td>3</td>\n",
       "      <td>2.8</td>\n",
       "      <td>0.4</td>\n",
       "      <td>1.0</td>\n",
       "      <td>4.667</td>\n",
       "      <td>0</td>\n",
       "      <td>FSInitial-MR1</td>\n",
       "      <td>1,2,3,4,5,6</td>\n",
       "      <td>0,0,1,0,.3</td>\n",
       "      <td>0,0,1,0,.3</td>\n",
       "      <td>0,0,1,0,.3</td>\n",
       "      <td>0,0,1,0,.3</td>\n",
       "      <td>0,0,1,0,.3</td>\n",
       "      <td>0,0,1,0,.3</td>\n",
       "      <td>PETSC_ARCH=libceed --download-{hdf5,netcdf,pne...</td>\n",
       "      <td>[0, 1, 2, 3, 4, 5, 6, 7, 8, 9, 10, 11, 12, 13,...</td>\n",
       "      <td>[0.0001792710704439, 0.0007170717928345, 0.001...</td>\n",
       "      <td>libCEED/strain_plot/20210602_FSInitial-MR1/log...</td>\n",
       "    </tr>\n",
       "  </tbody>\n",
       "</table>\n",
       "</div>"
      ],
      "text/plain": [
       "   Unnamed: 0   -E  -nu  -mu_1      -K  -mu_2       -problem    -bc_clamp  \\\n",
       "0           0  2.8  0.4    1.0   4.667      0  FSInitial-NH1  1,2,3,4,5,6   \n",
       "1           1  0.5  0.4    0.5  10.000      0  FSInitial-MR1  1,2,3,4,5,6   \n",
       "2           2  0.5  0.4    0.5  10.000      0  FSInitial-NH1  1,2,3,4,5,6   \n",
       "3           3  2.8  0.4    1.0   4.667      0  FSInitial-MR1  1,2,3,4,5,6   \n",
       "\n",
       "  -bc_clamp_1_rotate -bc_clamp_2_rotate -bc_clamp_3_rotate -bc_clamp_4_rotate  \\\n",
       "0         0,0,1,0,.3         0,0,1,0,.3         0,0,1,0,.3         0,0,1,0,.3   \n",
       "1         0,0,1,0,.3         0,0,1,0,.3         0,0,1,0,.3         0,0,1,0,.3   \n",
       "2         0,0,1,0,.3         0,0,1,0,.3         0,0,1,0,.3         0,0,1,0,.3   \n",
       "3         0,0,1,0,.3         0,0,1,0,.3         0,0,1,0,.3         0,0,1,0,.3   \n",
       "\n",
       "  -bc_clamp_5_rotate -bc_clamp_6_rotate  \\\n",
       "0         0,0,1,0,.3         0,0,1,0,.3   \n",
       "1         0,0,1,0,.3         0,0,1,0,.3   \n",
       "2         0,0,1,0,.3         0,0,1,0,.3   \n",
       "3         0,0,1,0,.3         0,0,1,0,.3   \n",
       "\n",
       "                                           Configure  \\\n",
       "0  PETSC_ARCH=libceed --download-{hdf5,netcdf,pne...   \n",
       "1  PETSC_ARCH=libceed --download-{hdf5,netcdf,pne...   \n",
       "2  PETSC_ARCH=libceed --download-{hdf5,netcdf,pne...   \n",
       "3  PETSC_ARCH=libceed --download-{hdf5,netcdf,pne...   \n",
       "\n",
       "                                                Load  \\\n",
       "0  [0, 1, 2, 3, 4, 5, 6, 7, 8, 9, 10, 11, 12, 13,...   \n",
       "1  [0, 1, 2, 3, 4, 5, 6, 7, 8, 9, 10, 11, 12, 13,...   \n",
       "2  [0, 1, 2, 3, 4, 5, 6, 7, 8, 9, 10, 11, 12, 13,...   \n",
       "3  [0, 1, 2, 3, 4, 5, 6, 7, 8, 9, 10, 11, 12, 13,...   \n",
       "\n",
       "                                              Strain  \\\n",
       "0  [0.0001850540540606, 0.0007402038749614, 0.001...   \n",
       "1  [8.963585792095e-05, 0.000358541059542, 0.0008...   \n",
       "2  [3.828396436549e-05, 0.0001530158452229, 0.000...   \n",
       "3  [0.0001792710704439, 0.0007170717928345, 0.001...   \n",
       "\n",
       "                                            filename  \n",
       "0  libCEED/strain_plot/20210602_FSInitial-NH1/log...  \n",
       "1                     libCEED/strain_plot/MR/log.txt  \n",
       "2                     libCEED/strain_plot/NH/log.txt  \n",
       "3  libCEED/strain_plot/20210602_FSInitial-MR1/log...  "
      ]
     },
     "execution_count": 3,
     "metadata": {},
     "output_type": "execute_result"
    }
   ],
   "source": [
    "data = pd.read_csv('log_csv/20210603_strain_plot_MRvsNH.csv')\n",
    "data.head()"
   ]
  },
  {
   "cell_type": "code",
   "execution_count": 5,
   "id": "874385e2",
   "metadata": {},
   "outputs": [
    {
     "name": "stdout",
     "output_type": "stream",
     "text": [
      "[0, 1, 2, 3, 4, 5, 6, 7, 8, 9, 10, 11, 12, 13, 14, 15, 16, 17, 18, 19, 20, 21, 22, 23, 24, 25, 26, 27, 28, 29, 30, 31, 32, 33, 34, 35, 36, 37, 38, 39]\n",
      "[0, 1, 2, 3, 4, 5, 6, 7, 8, 9, 10, 11, 12, 13, 14, 15, 16, 17, 18, 19, 20, 21, 22, 23, 24, 25, 26, 27, 28, 29, 30, 31, 32, 33, 34, 35, 36, 37, 38, 39]\n"
     ]
    }
   ],
   "source": [
    "x_MR = [int(x) for x in data['Load'][3].replace('[', '').replace(']', '').strip().split(', ')]\n",
    "x_NH = [int(x) for x in data['Load'][0].replace('[', '').replace(']', '').strip().split(', ')]\n",
    "print(x_MR)\n",
    "print(x_NH)"
   ]
  },
  {
   "cell_type": "code",
   "execution_count": 6,
   "id": "26cb24bb",
   "metadata": {},
   "outputs": [
    {
     "name": "stdout",
     "output_type": "stream",
     "text": [
      "[0.0001792710704439, 0.0007170717928345, 0.001613364700594, 0.00286808735025, 0.004481152322701, 0.006452447225043, 0.008781834693009, 0.01146915239409, 0.01451421303141, 0.01791680434848, 0.02167668913485, 0.02579360523285, 0.03026726554544, 0.03509735804541, 0.04028354578586, 0.04582546691221, 0.05172273467578, 0.05797493744907, 0.06458163874275, 0.07154237722455, 0.07885666674005, 0.08652399633538, 0.09454383028204, 0.1029156081036, 0.1116387446048, 0.1207126299021, 0.1301366294568, 0.1399100841104, 0.1500323101211, 0.160502599203, 0.1713202185669, 0.1824844109632, 0.1939943947264, 0.2058493638206, 0.2180484878885, 0.2305909122994, 0.2434757582009, 0.2567021225704, 0.2702690782684, 0.2841756740931, 0.2841756740931] [0.0001850540540606, 0.0007402038749614, 0.001665412440635, 0.002960618053566, 0.0046257343497, 0.006660650310986, 0.00906523028156, 0.01183931398767, 0.01498271656136, 0.0184952285681, 0.02237661603825, 0.0266266205027, 0.03124495903255, 0.03623132428311, 0.04158538454216, 0.04730678378275, 0.05339514172039, 0.05985005387494, 0.0666710916372, 0.07385780234024, 0.08140970933551, 0.08932631207395, 0.09760708619193, 0.1062514836022, 0.11525893259, 0.1246288379135, 0.1343605809105, 0.1444535196088, 0.1549069888425, 0.1657203003727, 0.1768927430138, 0.1884235827637, 0.20031206294, 0.2125574043204, 0.2251588052875, 0.2381154419795, 0.2514264684442, 0.2650910167985, 0.2791081973924, 0.2934770989767, 0.2934770989767]\n"
     ]
    }
   ],
   "source": [
    "y_MR = [float(x) for x in data['Strain'][3].replace('[', '').replace(']', '').strip().split(', ')]\n",
    "y_NH = [float(x) for x in data['Strain'][0].replace('[', '').replace(']', '').strip().split(', ')]\n",
    "print(y_MR, y_NH)"
   ]
  },
  {
   "cell_type": "code",
   "execution_count": 8,
   "id": "d6816b21",
   "metadata": {},
   "outputs": [
    {
     "data": {
      "image/png": "[encoded data removed]",
      "text/plain": [
       "<Figure size 432x288 with 1 Axes>"
      ]
     },
     "metadata": {
      "needs_background": "light"
     },
     "output_type": "display_data"
    }
   ],
   "source": [
    "plt.plot(x_MR, y_MR[:-1], label = 'Mooney-Rivlin ' + '-mu_1 ' + str(data['-mu_1'][3]) + ' -mu_2 ' + str(data['-mu_2'][3]) + ' -K '+ str(data['-K'][3]))\n",
    "plt.plot(x_NH, y_NH[:-1], label = 'Neo-Hookean ' + '-E ' + str(data['-E'][0]) + ' -nu ' + str(data['-nu'][0]))\n",
    "plt.legend()\n",
    "plt.xlabel('Load Increment')\n",
    "plt.ylabel('Strain Energy')\n",
    "plt.savefig('log_csv/20210603_strain_plot_MRvsNH.pdf', bbox_inches = 'tight')"
   ]
  },
  {
   "cell_type": "code",
   "execution_count": 3,
   "id": "8705379d",
   "metadata": {},
   "outputs": [
    {
     "name": "stdout",
     "output_type": "stream",
     "text": [
      "[(0.5, 'FSInitial-NH1', 0.1), (0.5, 'FSInitial-NH1', 0.2), (0.5, 'FSInitial-NH1', 0.3), (0.5, 'FSInitial-MR1', 0.1), (0.5, 'FSInitial-MR1', 0.2), (0.5, 'FSInitial-MR1', 0.3), (0.3, 'FSInitial-NH1', 0.1), (0.3, 'FSInitial-NH1', 0.2), (0.3, 'FSInitial-NH1', 0.3), (0.3, 'FSInitial-MR1', 0.1), (0.3, 'FSInitial-MR1', 0.2), (0.3, 'FSInitial-MR1', 0.3), (0.2, 'FSInitial-NH1', 0.1), (0.2, 'FSInitial-NH1', 0.2), (0.2, 'FSInitial-NH1', 0.3), (0.2, 'FSInitial-MR1', 0.1), (0.2, 'FSInitial-MR1', 0.2), (0.2, 'FSInitial-MR1', 0.3)]\n"
     ]
    }
   ],
   "source": [
    "#itertools testing\n",
    "\n",
    "E = [0.5, 0.3, 0.2]\n",
    "problem = ['FSInitial-NH1', 'FSInitial-MR1']\n",
    "nu = [0.1, 0.2, 0.3]\n",
    "\n",
    "print(list(itertools.product(E, problem, nu)))"
   ]
  },
  {
   "cell_type": "code",
   "execution_count": null,
   "id": "4a120d74",
   "metadata": {},
   "outputs": [],
   "source": []
  }
 ],
 "metadata": {
  "kernelspec": {
   "display_name": "Python 3",
   "language": "python",
   "name": "python3"
  },
  "language_info": {
   "codemirror_mode": {
    "name": "ipython",
    "version": 3
   },
   "file_extension": ".py",
   "mimetype": "text/x-python",
   "name": "python",
   "nbconvert_exporter": "python",
   "pygments_lexer": "ipython3",
   "version": "3.8.5"
  }
 },
 "nbformat": 4,
 "nbformat_minor": 5
}
