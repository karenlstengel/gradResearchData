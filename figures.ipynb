{
 "cells": [
  {
   "cell_type": "code",
   "execution_count": 1,
   "id": "37ff95c1",
   "metadata": {},
   "outputs": [],
   "source": [
    "import numpy as np\n",
    "import matplotlib.pyplot as plt\n",
    "import pandas as pd\n",
    "import itertools\n",
    "import altair as alt\n",
    "import csv\n",
    "\n",
    "def grab_data(df, exp_names):\n",
    "    load = {}\n",
    "    strain = {}\n",
    "    \n",
    "    for exp in exp_names:\n",
    "        index = df.index[df['filename'] == exp][0]\n",
    "        print(index)\n",
    "        \n",
    "        load[exp] = [int(x) for x in df['Load'][index].replace('[', '').replace(']', '').strip().split(', ')]\n",
    "        strain[exp] = [float(x) for x in df['Strain'][index].replace('[', '').replace(']', '').strip().split(', ')]\n",
    "    return load, strain\n",
    "\n",
    "def plot_strains(df, load, strain):\n",
    "    plt.figure()\n",
    "    ref_strain = None\n",
    "    for key in load.keys():\n",
    "        index = df.index[df['filename'] == key][0]\n",
    "        label = ''\n",
    "        if 'MR' in key:\n",
    "            label = 'Mooney-Rivlin ' + r'$\\mu_1$' + ' ' + str(df['-mu_1'][index]) + ' ' + r'$\\mu_2$' + ' ' + str(df['-mu_2'][index]) + ' ' + r'$K$' + ' ' + str(df['-K'][index])\n",
    "        else:\n",
    "            label = 'Neo-Hookean ' + r'$E$' + ' ' + str(df['-E'][index]) + r'$\\nu$' + ' ' + str(df['-nu'][index])\n",
    "            ref_strain = strain[key][:-1]\n",
    "        plt.plot(load[key], np.sqrt(strain[key][:-1]), label = label)\n",
    "    \n",
    "    plt.legend()\n",
    "    plt.xlabel('Load Increment')\n",
    "    plt.ylabel('Square root of Strain Energy')\n",
    "    plt.title('Strain Energy with ' + r'$log(J)$')\n",
    "    plt.savefig('log_csv/20210617_strain_plot_MRvsNH_mu1_'+ str(df['-mu_1'][index]) +'_mu2_'+ str(df['-mu_2'][index]) +'.pdf', bbox_inches = 'tight')\n",
    "    \n",
    "    plt.figure()\n",
    "    for key in load.keys():\n",
    "        if 'MR' in key:\n",
    "            print(key)\n",
    "            index = df.index[df['filename'] == key][0]\n",
    "        \n",
    "            label = 'Mooney-Rivlin ' + r'$\\mu_1$' + ' ' + str(df['-mu_1'][index]) + ' ' + r'$\\mu_2$' + ' ' + str(df['-mu_2'][index]) + ' ' + r'$K$' + ' ' + str(df['-K'][index])\n",
    "            plt.plot(load[key], [(strain[key][x] - ref_strain[x])/ref_strain[x] for x in range(len(ref_strain))], label = label)\n",
    "    \n",
    "    plt.legend()\n",
    "    plt.xlabel('Load Increment')\n",
    "    plt.ylabel(r'$|(e - e_{NH})|/e_{NH}$')\n",
    "    plt.title('Strain Energy with ' + r'$log(J)$')\n",
    "    plt.savefig('log_csv/20210617_strain_plot_MRvsNH_mu1_'+ str(df['-mu_1'][index]) +'_mu2_'+ str(df['-mu_2'][index]) +'_ref.pdf', bbox_inches = 'tight')\n",
    "    "
   ]
  },
  {
   "cell_type": "code",
   "execution_count": 2,
   "id": "5fb91ae6",
   "metadata": {
    "scrolled": false
   },
   "outputs": [
    {
     "data": {
      "text/html": [
       "<div>\n",
       "<style scoped>\n",
       "    .dataframe tbody tr th:only-of-type {\n",
       "        vertical-align: middle;\n",
       "    }\n",
       "\n",
       "    .dataframe tbody tr th {\n",
       "        vertical-align: top;\n",
       "    }\n",
       "\n",
       "    .dataframe thead th {\n",
       "        text-align: right;\n",
       "    }\n",
       "</style>\n",
       "<table border=\"1\" class=\"dataframe\">\n",
       "  <thead>\n",
       "    <tr style=\"text-align: right;\">\n",
       "      <th></th>\n",
       "      <th>Unnamed: 0</th>\n",
       "      <th>-E</th>\n",
       "      <th>-nu</th>\n",
       "      <th>-mu_1</th>\n",
       "      <th>-K</th>\n",
       "      <th>-mu_2</th>\n",
       "      <th>-problem</th>\n",
       "      <th>-bc_clamp</th>\n",
       "      <th>-bc_clamp_1_rotate</th>\n",
       "      <th>-bc_clamp_2_rotate</th>\n",
       "      <th>-bc_clamp_3_rotate</th>\n",
       "      <th>-bc_clamp_4_rotate</th>\n",
       "      <th>-bc_clamp_5_rotate</th>\n",
       "      <th>-bc_clamp_6_rotate</th>\n",
       "      <th>Configure</th>\n",
       "      <th>Load</th>\n",
       "      <th>Strain</th>\n",
       "      <th>filename</th>\n",
       "    </tr>\n",
       "  </thead>\n",
       "  <tbody>\n",
       "    <tr>\n",
       "      <th>0</th>\n",
       "      <td>0</td>\n",
       "      <td>10</td>\n",
       "      <td>0.3</td>\n",
       "      <td>3.846154</td>\n",
       "      <td>8.333333</td>\n",
       "      <td>0.0</td>\n",
       "      <td>FSInitial-NH1</td>\n",
       "      <td>1,2,3,4,5,6</td>\n",
       "      <td>0,0,1,0,.3</td>\n",
       "      <td>0,0,1,0,.3</td>\n",
       "      <td>0,0,1,0,.3</td>\n",
       "      <td>0,0,1,0,.3</td>\n",
       "      <td>0,0,1,0,.3</td>\n",
       "      <td>0,0,1,0,.3</td>\n",
       "      <td>PETSC_ARCH=libceed --download-hdf5--download-n...</td>\n",
       "      <td>[0, 1, 2, 3, 4, 5, 6, 7, 8, 9, 10, 11, 12, 13,...</td>\n",
       "      <td>[0.0007117585495511, 0.002847132989048, 0.0064...</td>\n",
       "      <td>libCEED/altair_plot/FSInitial-NH1_NH_equiv_tes...</td>\n",
       "    </tr>\n",
       "    <tr>\n",
       "      <th>1</th>\n",
       "      <td>1</td>\n",
       "      <td>10</td>\n",
       "      <td>0.3</td>\n",
       "      <td>3.846154</td>\n",
       "      <td>8.333333</td>\n",
       "      <td>0.0</td>\n",
       "      <td>FSInitial-MR1</td>\n",
       "      <td>1,2,3,4,5,6</td>\n",
       "      <td>0,0,1,0,.3</td>\n",
       "      <td>0,0,1,0,.3</td>\n",
       "      <td>0,0,1,0,.3</td>\n",
       "      <td>0,0,1,0,.3</td>\n",
       "      <td>0,0,1,0,.3</td>\n",
       "      <td>0,0,1,0,.3</td>\n",
       "      <td>PETSC_ARCH=libceed --download-hdf5--download-n...</td>\n",
       "      <td>[0, 1, 2, 3, 4, 5, 6, 7, 8, 9, 10, 11, 12, 13,...</td>\n",
       "      <td>[0.0003558943638452, 0.001423807773429, 0.0032...</td>\n",
       "      <td>libCEED/altair_plot/FSInitial-MR1_NH_equiv_tes...</td>\n",
       "    </tr>\n",
       "  </tbody>\n",
       "</table>\n",
       "</div>"
      ],
      "text/plain": [
       "   Unnamed: 0  -E  -nu     -mu_1        -K  -mu_2       -problem    -bc_clamp  \\\n",
       "0           0  10  0.3  3.846154  8.333333    0.0  FSInitial-NH1  1,2,3,4,5,6   \n",
       "1           1  10  0.3  3.846154  8.333333    0.0  FSInitial-MR1  1,2,3,4,5,6   \n",
       "\n",
       "  -bc_clamp_1_rotate -bc_clamp_2_rotate -bc_clamp_3_rotate -bc_clamp_4_rotate  \\\n",
       "0         0,0,1,0,.3         0,0,1,0,.3         0,0,1,0,.3         0,0,1,0,.3   \n",
       "1         0,0,1,0,.3         0,0,1,0,.3         0,0,1,0,.3         0,0,1,0,.3   \n",
       "\n",
       "  -bc_clamp_5_rotate -bc_clamp_6_rotate  \\\n",
       "0         0,0,1,0,.3         0,0,1,0,.3   \n",
       "1         0,0,1,0,.3         0,0,1,0,.3   \n",
       "\n",
       "                                           Configure  \\\n",
       "0  PETSC_ARCH=libceed --download-hdf5--download-n...   \n",
       "1  PETSC_ARCH=libceed --download-hdf5--download-n...   \n",
       "\n",
       "                                                Load  \\\n",
       "0  [0, 1, 2, 3, 4, 5, 6, 7, 8, 9, 10, 11, 12, 13,...   \n",
       "1  [0, 1, 2, 3, 4, 5, 6, 7, 8, 9, 10, 11, 12, 13,...   \n",
       "\n",
       "                                              Strain  \\\n",
       "0  [0.0007117585495511, 0.002847132989048, 0.0064...   \n",
       "1  [0.0003558943638452, 0.001423807773429, 0.0032...   \n",
       "\n",
       "                                            filename  \n",
       "0  libCEED/altair_plot/FSInitial-NH1_NH_equiv_tes...  \n",
       "1  libCEED/altair_plot/FSInitial-MR1_NH_equiv_tes...  "
      ]
     },
     "execution_count": 2,
     "metadata": {},
     "output_type": "execute_result"
    }
   ],
   "source": [
    "MR_logj_mu2_index = 1\n",
    "MR_logj_index = 2\n",
    "NH_logj_index = 0\n",
    "\n",
    "data = pd.read_csv('log_csv/altair_plot_MRvsNH.csv')\n",
    "data.head(20)\n",
    "\n",
    "# 20210617145436_FSInitial-NH1_NH_equiv_test, 20210617145433_FSInitial-MR1_NH_equiv_test"
   ]
  },
  {
   "cell_type": "code",
   "execution_count": 3,
   "id": "7d0a9f5e",
   "metadata": {},
   "outputs": [
    {
     "ename": "IndexError",
     "evalue": "index 0 is out of bounds for axis 0 with size 0",
     "output_type": "error",
     "traceback": [
      "\u001b[0;31m---------------------------------------------------------------------------\u001b[0m",
      "\u001b[0;31mIndexError\u001b[0m                                Traceback (most recent call last)",
      "\u001b[0;32m<ipython-input-3-f6d1d7f7e700>\u001b[0m in \u001b[0;36m<module>\u001b[0;34m\u001b[0m\n\u001b[1;32m      1\u001b[0m \u001b[0;31m# 20210617145436_FSInitial-NH1_NH_equiv_test, 20210617145433_FSInitial-MR1_NH_equiv_test\u001b[0m\u001b[0;34m\u001b[0m\u001b[0;34m\u001b[0m\u001b[0;34m\u001b[0m\u001b[0m\n\u001b[0;32m----> 2\u001b[0;31m \u001b[0mprint\u001b[0m\u001b[0;34m(\u001b[0m\u001b[0mdata\u001b[0m\u001b[0;34m.\u001b[0m\u001b[0mindex\u001b[0m\u001b[0;34m[\u001b[0m\u001b[0mdata\u001b[0m\u001b[0;34m[\u001b[0m\u001b[0;34m'filename'\u001b[0m\u001b[0;34m]\u001b[0m \u001b[0;34m==\u001b[0m \u001b[0;34m'libCEED/logJ_strainEnergy/20210617145436_FSInitial-NH1_NH_equiv_test/log.txt'\u001b[0m\u001b[0;34m]\u001b[0m\u001b[0;34m[\u001b[0m\u001b[0;36m0\u001b[0m\u001b[0;34m]\u001b[0m\u001b[0;34m)\u001b[0m\u001b[0;34m\u001b[0m\u001b[0;34m\u001b[0m\u001b[0m\n\u001b[0m\u001b[1;32m      3\u001b[0m \u001b[0mprint\u001b[0m\u001b[0;34m(\u001b[0m\u001b[0mdata\u001b[0m\u001b[0;34m.\u001b[0m\u001b[0mindex\u001b[0m\u001b[0;34m[\u001b[0m\u001b[0mdata\u001b[0m\u001b[0;34m[\u001b[0m\u001b[0;34m'filename'\u001b[0m\u001b[0;34m]\u001b[0m \u001b[0;34m==\u001b[0m \u001b[0;34m'libCEED/logJ_strainEnergy/20210617145433_FSInitial-MR1_NH_equiv_test/log.txt'\u001b[0m\u001b[0;34m]\u001b[0m\u001b[0;34m[\u001b[0m\u001b[0;36m0\u001b[0m\u001b[0;34m]\u001b[0m\u001b[0;34m)\u001b[0m\u001b[0;34m\u001b[0m\u001b[0;34m\u001b[0m\u001b[0m\n\u001b[1;32m      4\u001b[0m \u001b[0;34m\u001b[0m\u001b[0m\n",
      "\u001b[0;32m/opt/anaconda3/envs/research_brown_env/lib/python3.7/site-packages/pandas/core/indexes/base.py\u001b[0m in \u001b[0;36m__getitem__\u001b[0;34m(self, key)\u001b[0m\n\u001b[1;32m   4295\u001b[0m         \u001b[0;32mif\u001b[0m \u001b[0mis_scalar\u001b[0m\u001b[0;34m(\u001b[0m\u001b[0mkey\u001b[0m\u001b[0;34m)\u001b[0m\u001b[0;34m:\u001b[0m\u001b[0;34m\u001b[0m\u001b[0;34m\u001b[0m\u001b[0m\n\u001b[1;32m   4296\u001b[0m             \u001b[0mkey\u001b[0m \u001b[0;34m=\u001b[0m \u001b[0mcom\u001b[0m\u001b[0;34m.\u001b[0m\u001b[0mcast_scalar_indexer\u001b[0m\u001b[0;34m(\u001b[0m\u001b[0mkey\u001b[0m\u001b[0;34m,\u001b[0m \u001b[0mwarn_float\u001b[0m\u001b[0;34m=\u001b[0m\u001b[0;32mTrue\u001b[0m\u001b[0;34m)\u001b[0m\u001b[0;34m\u001b[0m\u001b[0;34m\u001b[0m\u001b[0m\n\u001b[0;32m-> 4297\u001b[0;31m             \u001b[0;32mreturn\u001b[0m \u001b[0mgetitem\u001b[0m\u001b[0;34m(\u001b[0m\u001b[0mkey\u001b[0m\u001b[0;34m)\u001b[0m\u001b[0;34m\u001b[0m\u001b[0;34m\u001b[0m\u001b[0m\n\u001b[0m\u001b[1;32m   4298\u001b[0m \u001b[0;34m\u001b[0m\u001b[0m\n\u001b[1;32m   4299\u001b[0m         \u001b[0;32mif\u001b[0m \u001b[0misinstance\u001b[0m\u001b[0;34m(\u001b[0m\u001b[0mkey\u001b[0m\u001b[0;34m,\u001b[0m \u001b[0mslice\u001b[0m\u001b[0;34m)\u001b[0m\u001b[0;34m:\u001b[0m\u001b[0;34m\u001b[0m\u001b[0;34m\u001b[0m\u001b[0m\n",
      "\u001b[0;31mIndexError\u001b[0m: index 0 is out of bounds for axis 0 with size 0"
     ]
    }
   ],
   "source": [
    "# 20210617145436_FSInitial-NH1_NH_equiv_test, 20210617145433_FSInitial-MR1_NH_equiv_test\n",
    "print(data.index[data['filename'] == 'libCEED/logJ_strainEnergy/20210617145436_FSInitial-NH1_NH_equiv_test/log.txt'][0])\n",
    "print(data.index[data['filename'] == 'libCEED/logJ_strainEnergy/20210617145433_FSInitial-MR1_NH_equiv_test/log.txt'][0])\n",
    "\n"
   ]
  },
  {
   "cell_type": "code",
   "execution_count": 7,
   "id": "f1f3aca3",
   "metadata": {},
   "outputs": [
    {
     "name": "stdout",
     "output_type": "stream",
     "text": [
      "0\n",
      "1\n",
      "libCEED/altair_plot/FSInitial-MR1_NH_equiv_test/log.txt\n",
      "0 0.0007117585495511 0.0003558943638452\n",
      "1 0.002847132989048 0.001423807773429\n",
      "2 0.006406419727374 0.003204430105017\n",
      "3 0.01139011289968 0.005698907562162\n",
      "4 0.01779890454497 0.008908837299838\n",
      "5 0.02563368484892 0.01283625991715\n",
      "6 0.03489554244593 0.01748364983748\n",
      "7 0.045585764773 0.02285390360025\n",
      "8 0.05770583846592 0.02895032609378\n",
      "9 0.07125744978682 0.03577661476383\n",
      "10 0.08624248507005 0.04333684183761\n",
      "11 0.1026630311717 0.051635434608\n",
      "12 0.120521375906 0.0606771538278\n",
      "13 0.1398200084499 0.07046707026831\n",
      "14 0.1605616196956 0.08101053950164\n",
      "15 0.1827491025272 0.09231317497036\n",
      "16 0.2063855519976 0.1043808194126\n",
      "17 0.2314742653779 0.1172195147153\n",
      "18 0.2580187420498 0.1308354702715\n",
      "19 0.2860226832084 0.1452350299224\n",
      "20 0.3154899913415 0.160424637569\n",
      "21 0.3464247694482 0.1764108015388\n",
      "22 0.3788313199554 0.1932000578013\n",
      "23 0.4127141432905 0.2107989321242\n",
      "24 0.4480779360639 0.2292139012683\n",
      "25 0.4849275888109 0.2484513533206\n",
      "26 0.5232681832414 0.2685175472673\n",
      "27 0.563104988941 0.2894185719116\n",
      "28 0.604443459463 0.3111603042428\n",
      "29 0.6472892277468 0.3337483673632\n",
      "30 0.6916481007965 0.3571880880844\n",
      "31 0.7375260535455 0.3814844543025\n",
      "32 0.7849292218302 0.4066420722637\n",
      "33 0.8338638943916 0.4326651238344\n",
      "34 0.8843365038179 0.4595573238863\n",
      "35 0.9363536163334 0.4873218779119\n",
      "36 0.9899219203381 0.5159614399818\n",
      "37 1.04504821359 0.5454780711577\n",
      "38 1.101739388921 0.5758731984723\n",
      "39 1.160002418366 0.6071475745879\n",
      "40 1.160002418366 0.6071475745879\n"
     ]
    },
    {
     "data": {
      "image/png": "[encoded data removed]",
      "text/plain": [
       "<Figure size 432x288 with 1 Axes>"
      ]
     },
     "metadata": {
      "needs_background": "light"
     },
     "output_type": "display_data"
    },
    {
     "data": {
      "image/png": "[encoded data removed]",
      "text/plain": [
       "<Figure size 432x288 with 1 Axes>"
      ]
     },
     "metadata": {
      "needs_background": "light"
     },
     "output_type": "display_data"
    }
   ],
   "source": [
    "exp_names = [data['filename'][0], data['filename'][1]]\n",
    "load, strain = grab_data(data, exp_names)\n",
    "plot_strains(data, load, strain)\n",
    "\n",
    "\n",
    "for i in range( len(strain[list(strain.keys())[0]]) ):\n",
    "    print(i, strain[list(strain.keys())[0]][i], strain[list(strain.keys())[1]][i])"
   ]
  },
  {
   "cell_type": "code",
   "execution_count": 116,
   "id": "874385e2",
   "metadata": {},
   "outputs": [
    {
     "name": "stdout",
     "output_type": "stream",
     "text": [
      "[0, 1, 2, 3, 4, 5, 6, 7, 8, 9, 10, 11, 12, 13, 14, 15, 16, 17, 18, 19, 20, 21, 22, 23, 24, 25, 26, 27, 28, 29, 30, 31, 32, 33, 34, 35, 36, 37, 38, 39]\n",
      "[0, 1, 2, 3, 4, 5, 6, 7, 8, 9, 10, 11, 12, 13, 14, 15, 16, 17, 18, 19, 20, 21, 22, 23, 24, 25, 26, 27, 28, 29, 30, 31, 32, 33, 34, 35, 36, 37, 38, 39]\n"
     ]
    }
   ],
   "source": [
    "x_MR_jm1 = [int(x) for x in data['Load'][6].replace('[', '').replace(']', '').strip().split(', ')]\n",
    "x_MR_mu = [int(x) for x in data['Load'][5].replace('[', '').replace(']', '').strip().split(', ')]\n",
    "x_MR_logJ = [int(x) for x in data['Load'][4].replace('[', '').replace(']', '').strip().split(', ')]\n",
    "\n",
    "x_NH = [int(x) for x in data['Load'][0].replace('[', '').replace(']', '').strip().split(', ')]\n",
    "print(x_MR_logJ)\n",
    "print(x_NH)"
   ]
  },
  {
   "cell_type": "code",
   "execution_count": 65,
   "id": "26cb24bb",
   "metadata": {},
   "outputs": [
    {
     "name": "stdout",
     "output_type": "stream",
     "text": [
      "[0.01338921 0.0267782  0.04016671 0.05355453 0.06694141 0.08032713\n",
      " 0.09371144 0.10709413 0.12047495 0.13385367 0.14723006 0.16060388\n",
      " 0.1739749  0.18734289 0.20070761 0.21406884 0.22742633 0.24077985\n",
      " 0.25412918 0.26747407 0.28081429 0.29414962 0.3074798  0.32080463\n",
      " 0.33412385 0.34743723 0.36074455 0.37404556 0.38734004 0.40062776\n",
      " 0.41390847 0.42718194 0.44044795 0.45370625 0.46695662 0.48019883\n",
      " 0.49343263 0.5066578  0.5198741  0.5330813  0.5330813 ]\n"
     ]
    }
   ],
   "source": [
    "y_MR_jm1 = [float(x) for x in data['Strain'][6].replace('[', '').replace(']', '').strip().split(', ')]\n",
    "y_MR_mu = [float(x) for x in data['Strain'][5].replace('[', '').replace(']', '').strip().split(', ')]\n",
    "y_MR_logJ = [float(x) for x in data['Strain'][4].replace('[', '').replace(']', '').strip().split(', ')]\n",
    "\n",
    "y_NH = [float(x) for x in data['Strain'][0].replace('[', '').replace(']', '').strip().split(', ')]\n",
    "print(np.sqrt(y_MR_jm1))"
   ]
  },
  {
   "cell_type": "code",
   "execution_count": 64,
   "id": "d6816b21",
   "metadata": {},
   "outputs": [
    {
     "data": {
      "image/png": "[encoded data removed]",
      "text/plain": [
       "<Figure size 432x288 with 1 Axes>"
      ]
     },
     "metadata": {
      "needs_background": "light"
     },
     "output_type": "display_data"
    }
   ],
   "source": [
    "plt.plot(x_MR_jm1, np.sqrt(y_MR_jm1[:-1]), label = 'Mooney-Rivlin ' + '-mu_1 ' + str(data['-mu_1'][6]) + ' -mu_2 ' + str(data['-mu_2'][6]) + ' -K '+ str(data['-K'][6]))\n",
    "plt.plot(x_MR_mu, np.sqrt(y_MR_mu[:-1]), label = 'Mooney-Rivlin ' + '-mu_1 ' + str(data['-mu_1'][5]) + ' -mu_2 ' + str(data['-mu_2'][5]) + ' -K '+ str(data['-K'][5]))\n",
    "plt.plot(x_NH, np.sqrt(y_NH[:-1]), label = 'Neo-Hookean ' + '-E ' + str(data['-E'][0]) + ' -nu ' + str(data['-nu'][0]))\n",
    "plt.legend()\n",
    "plt.xlabel('Load Increment')\n",
    "plt.ylabel('Square root of Strain Energy')\n",
    "plt.savefig('log_csv/20210603_strain_plot_MRvsNH_mu1_0.5_mu2_0.5_sqrt.pdf', bbox_inches = 'tight')"
   ]
  },
  {
   "cell_type": "code",
   "execution_count": 63,
   "id": "6a522090",
   "metadata": {},
   "outputs": [
    {
     "data": {
      "image/png": "[encoded data removed]",
      "text/plain": [
       "<Figure size 432x288 with 1 Axes>"
      ]
     },
     "metadata": {
      "needs_background": "light"
     },
     "output_type": "display_data"
    }
   ],
   "source": [
    "diff = [y_MR_logJ[i] - y_MR_jm1[i] for i in range(len(y_MR_logJ[:-1]))]\n",
    "plt.plot(x_MR_logJ, diff, label = 'MR w/ log(J) - MR w/ Jm1')\n",
    "\n",
    "plt.legend()\n",
    "plt.ticklabel_format(axis='y', style='scientific')\n",
    "plt.title('Mooney-Rivlin -mu_1 ' + str(data['-mu_1'][6]) + ' -mu_2 ' + str(data['-mu_2'][6]) + ' -K '+ str(data['-K'][6]))\n",
    "plt.xlabel('Load Increment')\n",
    "plt.ylabel('Difference in Strain Energy')\n",
    "plt.savefig('log_csv/20210607_strain_plot_MRvsNH_JstabilityDiff.pdf', bbox_inches = 'tight')"
   ]
  },
  {
   "cell_type": "code",
   "execution_count": 59,
   "id": "8705379d",
   "metadata": {},
   "outputs": [],
   "source": [
    "import csv\n",
    "\n",
    "with open('strainEnergy_vs_loadIncrement_params.csv', 'w', newline='') as csvfile:\n",
    "    spamwriter = csv.writer(csvfile, delimiter=',')\n",
    "    \n",
    "    spamwriter.writerow(['Parameter', 'Neo-Hookean J - 1', \"Mooney-Rivlin J - 1\", \"Mooney-Rivlin J - 1 (2)\",  'Mooney-Rivlin log(J)'])\n",
    "    spamwriter.writerow([r'$E$', data['-E'][0], data['-E'][6], data['-E'][5], data['-E'][4]])\n",
    "    spamwriter.writerow([r'$\\nu$', data['-nu'][0], data['-nu'][6], data['-nu'][5], data['-nu'][4]])\n",
    "    spamwriter.writerow([r'$\\mu_1$', data['-mu_1'][0], data['-mu_1'][6], data['-mu_1'][5], data['-mu_1'][4]])\n",
    "    spamwriter.writerow([r'$\\mu_2$', data['-mu_2'][0], data['-mu_2'][6], data['-mu_2'][5], data['-mu_2'][4]])\n",
    "    spamwriter.writerow([r'$K$', data['-K'][0], data['-K'][6], data['-K'][5], data['-K'][4]])\n",
    "    \n",
    "\n",
    "with open('strainEnergy_vs_loadIncrement_data.csv', 'w', newline='') as csvfile:\n",
    "    spamwriter = csv.writer(csvfile, delimiter=',')\n",
    "    \n",
    "    spamwriter.writerow(['Load Increment', 'Neo-Hookean J - 1', \"Mooney-Rivlin J - 1\", \"Mooney-Rivlin J - 1 (2)\", 'Mooney-Rivlin log(J)'])\n",
    "\n",
    "    for i in range(len(y_NH[:-1])):\n",
    "        spamwriter.writerow([x_NH[i], y_NH[i], y_MR_Jm1[i], y_MR_mu[i], y_MR_logJ[i]])"
   ]
  },
  {
   "cell_type": "code",
   "execution_count": 60,
   "id": "4a120d74",
   "metadata": {},
   "outputs": [
    {
     "data": {
      "text/html": [
       "<div>\n",
       "<style scoped>\n",
       "    .dataframe tbody tr th:only-of-type {\n",
       "        vertical-align: middle;\n",
       "    }\n",
       "\n",
       "    .dataframe tbody tr th {\n",
       "        vertical-align: top;\n",
       "    }\n",
       "\n",
       "    .dataframe thead th {\n",
       "        text-align: right;\n",
       "    }\n",
       "</style>\n",
       "<table border=\"1\" class=\"dataframe\">\n",
       "  <thead>\n",
       "    <tr style=\"text-align: right;\">\n",
       "      <th></th>\n",
       "      <th>Parameter</th>\n",
       "      <th>Neo-Hookean J - 1</th>\n",
       "      <th>Mooney-Rivlin J - 1</th>\n",
       "      <th>Mooney-Rivlin J - 1 (2)</th>\n",
       "      <th>Mooney-Rivlin log(J)</th>\n",
       "    </tr>\n",
       "  </thead>\n",
       "  <tbody>\n",
       "    <tr>\n",
       "      <th>0</th>\n",
       "      <td>$E$</td>\n",
       "      <td>2.800</td>\n",
       "      <td>2.800</td>\n",
       "      <td>2.800</td>\n",
       "      <td>2.800</td>\n",
       "    </tr>\n",
       "    <tr>\n",
       "      <th>1</th>\n",
       "      <td>$\\nu$</td>\n",
       "      <td>0.400</td>\n",
       "      <td>0.400</td>\n",
       "      <td>0.400</td>\n",
       "      <td>0.400</td>\n",
       "    </tr>\n",
       "    <tr>\n",
       "      <th>2</th>\n",
       "      <td>$\\mu_1$</td>\n",
       "      <td>1.000</td>\n",
       "      <td>1.000</td>\n",
       "      <td>0.500</td>\n",
       "      <td>1.000</td>\n",
       "    </tr>\n",
       "    <tr>\n",
       "      <th>3</th>\n",
       "      <td>$\\mu_2$</td>\n",
       "      <td>0.000</td>\n",
       "      <td>0.000</td>\n",
       "      <td>0.500</td>\n",
       "      <td>0.000</td>\n",
       "    </tr>\n",
       "    <tr>\n",
       "      <th>4</th>\n",
       "      <td>$K$</td>\n",
       "      <td>4.667</td>\n",
       "      <td>4.667</td>\n",
       "      <td>4.667</td>\n",
       "      <td>4.667</td>\n",
       "    </tr>\n",
       "  </tbody>\n",
       "</table>\n",
       "</div>"
      ],
      "text/plain": [
       "  Parameter  Neo-Hookean J - 1  Mooney-Rivlin J - 1  Mooney-Rivlin J - 1 (2)  \\\n",
       "0       $E$              2.800                2.800                    2.800   \n",
       "1     $\\nu$              0.400                0.400                    0.400   \n",
       "2   $\\mu_1$              1.000                1.000                    0.500   \n",
       "3   $\\mu_2$              0.000                0.000                    0.500   \n",
       "4       $K$              4.667                4.667                    4.667   \n",
       "\n",
       "   Mooney-Rivlin log(J)  \n",
       "0                 2.800  \n",
       "1                 0.400  \n",
       "2                 1.000  \n",
       "3                 0.000  \n",
       "4                 4.667  "
      ]
     },
     "execution_count": 60,
     "metadata": {},
     "output_type": "execute_result"
    }
   ],
   "source": [
    "pd.read_csv('strainEnergy_vs_loadIncrement_params.csv').head(10)"
   ]
  },
  {
   "cell_type": "code",
   "execution_count": 61,
   "id": "6f913943",
   "metadata": {},
   "outputs": [
    {
     "data": {
      "text/html": [
       "<div>\n",
       "<style scoped>\n",
       "    .dataframe tbody tr th:only-of-type {\n",
       "        vertical-align: middle;\n",
       "    }\n",
       "\n",
       "    .dataframe tbody tr th {\n",
       "        vertical-align: top;\n",
       "    }\n",
       "\n",
       "    .dataframe thead th {\n",
       "        text-align: right;\n",
       "    }\n",
       "</style>\n",
       "<table border=\"1\" class=\"dataframe\">\n",
       "  <thead>\n",
       "    <tr style=\"text-align: right;\">\n",
       "      <th></th>\n",
       "      <th>Load Increment</th>\n",
       "      <th>Neo-Hookean J - 1</th>\n",
       "      <th>Mooney-Rivlin J - 1</th>\n",
       "      <th>Mooney-Rivlin J - 1 (2)</th>\n",
       "      <th>Mooney-Rivlin log(J)</th>\n",
       "    </tr>\n",
       "  </thead>\n",
       "  <tbody>\n",
       "    <tr>\n",
       "      <th>0</th>\n",
       "      <td>0</td>\n",
       "      <td>0.000185</td>\n",
       "      <td>0.000179</td>\n",
       "      <td>0.000181</td>\n",
       "      <td>0.000179</td>\n",
       "    </tr>\n",
       "    <tr>\n",
       "      <th>1</th>\n",
       "      <td>1</td>\n",
       "      <td>0.000740</td>\n",
       "      <td>0.000717</td>\n",
       "      <td>0.000723</td>\n",
       "      <td>0.000717</td>\n",
       "    </tr>\n",
       "    <tr>\n",
       "      <th>2</th>\n",
       "      <td>2</td>\n",
       "      <td>0.001665</td>\n",
       "      <td>0.001613</td>\n",
       "      <td>0.001626</td>\n",
       "      <td>0.001613</td>\n",
       "    </tr>\n",
       "    <tr>\n",
       "      <th>3</th>\n",
       "      <td>3</td>\n",
       "      <td>0.002961</td>\n",
       "      <td>0.002868</td>\n",
       "      <td>0.002891</td>\n",
       "      <td>0.002868</td>\n",
       "    </tr>\n",
       "    <tr>\n",
       "      <th>4</th>\n",
       "      <td>4</td>\n",
       "      <td>0.004626</td>\n",
       "      <td>0.004481</td>\n",
       "      <td>0.004518</td>\n",
       "      <td>0.004481</td>\n",
       "    </tr>\n",
       "    <tr>\n",
       "      <th>5</th>\n",
       "      <td>5</td>\n",
       "      <td>0.006661</td>\n",
       "      <td>0.006452</td>\n",
       "      <td>0.006505</td>\n",
       "      <td>0.006452</td>\n",
       "    </tr>\n",
       "    <tr>\n",
       "      <th>6</th>\n",
       "      <td>6</td>\n",
       "      <td>0.009065</td>\n",
       "      <td>0.008782</td>\n",
       "      <td>0.008855</td>\n",
       "      <td>0.008782</td>\n",
       "    </tr>\n",
       "    <tr>\n",
       "      <th>7</th>\n",
       "      <td>7</td>\n",
       "      <td>0.011839</td>\n",
       "      <td>0.011469</td>\n",
       "      <td>0.011565</td>\n",
       "      <td>0.011469</td>\n",
       "    </tr>\n",
       "    <tr>\n",
       "      <th>8</th>\n",
       "      <td>8</td>\n",
       "      <td>0.014983</td>\n",
       "      <td>0.014514</td>\n",
       "      <td>0.014636</td>\n",
       "      <td>0.014514</td>\n",
       "    </tr>\n",
       "    <tr>\n",
       "      <th>9</th>\n",
       "      <td>9</td>\n",
       "      <td>0.018495</td>\n",
       "      <td>0.017917</td>\n",
       "      <td>0.018069</td>\n",
       "      <td>0.017917</td>\n",
       "    </tr>\n",
       "  </tbody>\n",
       "</table>\n",
       "</div>"
      ],
      "text/plain": [
       "   Load Increment  Neo-Hookean J - 1  Mooney-Rivlin J - 1  \\\n",
       "0               0           0.000185             0.000179   \n",
       "1               1           0.000740             0.000717   \n",
       "2               2           0.001665             0.001613   \n",
       "3               3           0.002961             0.002868   \n",
       "4               4           0.004626             0.004481   \n",
       "5               5           0.006661             0.006452   \n",
       "6               6           0.009065             0.008782   \n",
       "7               7           0.011839             0.011469   \n",
       "8               8           0.014983             0.014514   \n",
       "9               9           0.018495             0.017917   \n",
       "\n",
       "   Mooney-Rivlin J - 1 (2)  Mooney-Rivlin log(J)  \n",
       "0                 0.000181              0.000179  \n",
       "1                 0.000723              0.000717  \n",
       "2                 0.001626              0.001613  \n",
       "3                 0.002891              0.002868  \n",
       "4                 0.004518              0.004481  \n",
       "5                 0.006505              0.006452  \n",
       "6                 0.008855              0.008782  \n",
       "7                 0.011565              0.011469  \n",
       "8                 0.014636              0.014514  \n",
       "9                 0.018069              0.017917  "
      ]
     },
     "execution_count": 61,
     "metadata": {},
     "output_type": "execute_result"
    }
   ],
   "source": [
    "pd.read_csv('strainEnergy_vs_loadIncrement_data.csv').head(10)"
   ]
  },
  {
   "cell_type": "code",
   "execution_count": null,
   "id": "d824a0cc",
   "metadata": {},
   "outputs": [],
   "source": []
  }
 ],
 "metadata": {
  "kernelspec": {
   "display_name": "Python 3",
   "language": "python",
   "name": "python3"
  },
  "language_info": {
   "codemirror_mode": {
    "name": "ipython",
    "version": 3
   },
   "file_extension": ".py",
   "mimetype": "text/x-python",
   "name": "python",
   "nbconvert_exporter": "python",
   "pygments_lexer": "ipython3",
   "version": "3.7.10"
  }
 },
 "nbformat": 4,
 "nbformat_minor": 5
}
