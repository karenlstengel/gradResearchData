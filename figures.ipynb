{
 "cells": [
  {
   "cell_type": "code",
   "execution_count": 1,
   "id": "37ff95c1",
   "metadata": {},
   "outputs": [],
   "source": [
    "import numpy as np\n",
    "import matplotlib.pyplot as plt\n",
    "import pandas as pd\n",
    "import itertools"
   ]
  },
  {
   "cell_type": "code",
   "execution_count": 8,
   "id": "5fb91ae6",
   "metadata": {},
   "outputs": [
    {
     "data": {
      "text/html": [
       "<div>\n",
       "<style scoped>\n",
       "    .dataframe tbody tr th:only-of-type {\n",
       "        vertical-align: middle;\n",
       "    }\n",
       "\n",
       "    .dataframe tbody tr th {\n",
       "        vertical-align: top;\n",
       "    }\n",
       "\n",
       "    .dataframe thead th {\n",
       "        text-align: right;\n",
       "    }\n",
       "</style>\n",
       "<table border=\"1\" class=\"dataframe\">\n",
       "  <thead>\n",
       "    <tr style=\"text-align: right;\">\n",
       "      <th></th>\n",
       "      <th>Unnamed: 0</th>\n",
       "      <th>-E</th>\n",
       "      <th>-nu</th>\n",
       "      <th>-mu_1</th>\n",
       "      <th>-K</th>\n",
       "      <th>-mu_2</th>\n",
       "      <th>-problem</th>\n",
       "      <th>-bc_clamp</th>\n",
       "      <th>-bc_clamp_1_rotate</th>\n",
       "      <th>-bc_clamp_2_rotate</th>\n",
       "      <th>-bc_clamp_3_rotate</th>\n",
       "      <th>-bc_clamp_4_rotate</th>\n",
       "      <th>-bc_clamp_5_rotate</th>\n",
       "      <th>-bc_clamp_6_rotate</th>\n",
       "      <th>Configure</th>\n",
       "      <th>Load</th>\n",
       "      <th>Strain</th>\n",
       "      <th>filename</th>\n",
       "    </tr>\n",
       "  </thead>\n",
       "  <tbody>\n",
       "    <tr>\n",
       "      <th>0</th>\n",
       "      <td>0</td>\n",
       "      <td>0.5</td>\n",
       "      <td>0.4</td>\n",
       "      <td>0.5</td>\n",
       "      <td>10</td>\n",
       "      <td>0</td>\n",
       "      <td>FSInitial-MR1</td>\n",
       "      <td>1,2,3,4,5,6</td>\n",
       "      <td>0,0,1,0,.3</td>\n",
       "      <td>0,0,1,0,.3</td>\n",
       "      <td>0,0,1,0,.3</td>\n",
       "      <td>0,0,1,0,.3</td>\n",
       "      <td>0,0,1,0,.3</td>\n",
       "      <td>0,0,1,0,.3</td>\n",
       "      <td>PETSC_ARCH=libceed --download-{hdf5,netcdf,pne...</td>\n",
       "      <td>[0, 1, 2, 3, 4, 5, 6, 7, 8, 9, 10, 11, 12, 13,...</td>\n",
       "      <td>[8.963585792095e-05, 0.000358541059542, 0.0008...</td>\n",
       "      <td>strain_plot/MR/log.txt</td>\n",
       "    </tr>\n",
       "    <tr>\n",
       "      <th>1</th>\n",
       "      <td>1</td>\n",
       "      <td>0.5</td>\n",
       "      <td>0.4</td>\n",
       "      <td>0.5</td>\n",
       "      <td>10</td>\n",
       "      <td>0</td>\n",
       "      <td>FSInitial-NH1</td>\n",
       "      <td>1,2,3,4,5,6</td>\n",
       "      <td>0,0,1,0,.3</td>\n",
       "      <td>0,0,1,0,.3</td>\n",
       "      <td>0,0,1,0,.3</td>\n",
       "      <td>0,0,1,0,.3</td>\n",
       "      <td>0,0,1,0,.3</td>\n",
       "      <td>0,0,1,0,.3</td>\n",
       "      <td>PETSC_ARCH=libceed --download-{hdf5,netcdf,pne...</td>\n",
       "      <td>[0, 1, 2, 3, 4, 5, 6, 7, 8, 9, 10, 11, 12, 13,...</td>\n",
       "      <td>[3.828396436549e-05, 0.0001530158452229, 0.000...</td>\n",
       "      <td>strain_plot/NH/log.txt</td>\n",
       "    </tr>\n",
       "  </tbody>\n",
       "</table>\n",
       "</div>"
      ],
      "text/plain": [
       "   Unnamed: 0   -E  -nu  -mu_1  -K  -mu_2       -problem    -bc_clamp  \\\n",
       "0           0  0.5  0.4    0.5  10      0  FSInitial-MR1  1,2,3,4,5,6   \n",
       "1           1  0.5  0.4    0.5  10      0  FSInitial-NH1  1,2,3,4,5,6   \n",
       "\n",
       "  -bc_clamp_1_rotate -bc_clamp_2_rotate -bc_clamp_3_rotate -bc_clamp_4_rotate  \\\n",
       "0         0,0,1,0,.3         0,0,1,0,.3         0,0,1,0,.3         0,0,1,0,.3   \n",
       "1         0,0,1,0,.3         0,0,1,0,.3         0,0,1,0,.3         0,0,1,0,.3   \n",
       "\n",
       "  -bc_clamp_5_rotate -bc_clamp_6_rotate  \\\n",
       "0         0,0,1,0,.3         0,0,1,0,.3   \n",
       "1         0,0,1,0,.3         0,0,1,0,.3   \n",
       "\n",
       "                                           Configure  \\\n",
       "0  PETSC_ARCH=libceed --download-{hdf5,netcdf,pne...   \n",
       "1  PETSC_ARCH=libceed --download-{hdf5,netcdf,pne...   \n",
       "\n",
       "                                                Load  \\\n",
       "0  [0, 1, 2, 3, 4, 5, 6, 7, 8, 9, 10, 11, 12, 13,...   \n",
       "1  [0, 1, 2, 3, 4, 5, 6, 7, 8, 9, 10, 11, 12, 13,...   \n",
       "\n",
       "                                              Strain                filename  \n",
       "0  [8.963585792095e-05, 0.000358541059542, 0.0008...  strain_plot/MR/log.txt  \n",
       "1  [3.828396436549e-05, 0.0001530158452229, 0.000...  strain_plot/NH/log.txt  "
      ]
     },
     "execution_count": 8,
     "metadata": {},
     "output_type": "execute_result"
    }
   ],
   "source": [
    "data = pd.read_csv('log_csv/20210602_strain_plot_MRvsNH.csv')\n",
    "data.head()"
   ]
  },
  {
   "cell_type": "code",
   "execution_count": 20,
   "id": "874385e2",
   "metadata": {},
   "outputs": [
    {
     "name": "stdout",
     "output_type": "stream",
     "text": [
      "[0, 1, 2, 3, 4, 5, 6, 7, 8, 9, 10, 11, 12, 13, 14, 15, 16, 17, 18, 19, 20, 21, 22, 23, 24, 25, 26, 27, 28, 29, 30, 31, 32, 33, 34, 35, 36, 37, 38, 39]\n",
      "[0, 1, 2, 3, 4, 5, 6, 7, 8, 9, 10, 11, 12, 13, 14, 15, 16, 17, 18, 19, 20, 21, 22, 23, 24, 25, 26, 27, 28, 29, 30, 31, 32, 33, 34, 35, 36, 37, 38, 39]\n"
     ]
    }
   ],
   "source": [
    "x_MR = [int(x) for x in data['Load'][0].replace('[', '').replace(']', '').strip().split(', ')]\n",
    "x_NH = [int(x) for x in data['Load'][1].replace('[', '').replace(']', '').strip().split(', ')]\n",
    "print(x_MR)\n",
    "print(x_NH)"
   ]
  },
  {
   "cell_type": "code",
   "execution_count": 21,
   "id": "26cb24bb",
   "metadata": {},
   "outputs": [
    {
     "name": "stdout",
     "output_type": "stream",
     "text": [
      "[8.963585792095e-05, 0.000358541059542, 0.0008067084881142, 0.00143412628131, 0.002240777829609, 0.003226641774037, 0.004391692003273, 0.005735897650122, 0.007259223087357, 0.008961627922948, 0.01084306699468, 0.01290349036418, 0.01514284331031, 0.01756106632205, 0.02015809509073, 0.02293386050177, 0.02588828862584, 0.02902130070946, 0.03233281316513, 0.03582273756088, 0.03949098060937, 0.04333744415641, 0.04736202516914, 0.05156461572354, 0.05594510299163, 0.06050336922815, 0.06523929175671, 0.07015274295565, 0.07524359024327, 0.08051169606277, 0.08595691786666, 0.0915791081008, 0.0973781141879, 0.1033537785107, 0.1095059383947, 0.1158344260905, 0.1223390687552, 0.1290196884345, 0.1358761020431, 0.1429081213455, 0.1429081213455] [3.828396436549e-05, 0.0001530158452229, 0.0003438361070859, 0.0006101472524219, 0.0009511166071444, 0.001365680578023, 0.001852550677295, 0.002410221614376, 0.003036981714413, 0.003730925842402, 0.004489970898566, 0.005311873883722, 0.006194251996017, 0.007134605132132, 0.008130339580112, 0.009178792906026, 0.01027725896662, 0.0114230131776, 0.01261333683838, 0.01384554030236, 0.01511698450241, 0.01642510048111, 0.01776740666715, 0.01914152373227, 0.02054518693394, 0.02197625609544, 0.02343272275851, 0.02491271566741, 0.02641450358343, 0.02793649638527, 0.0294772445836, 0.03103543701082, 0.03260989759153, 0.03419958092979, 0.03580356721878, 0.0374210561699, 0.0390513610363, 0.04069390185234, 0.04234819877572, 0.04401386533095, 0.04401386533095]\n"
     ]
    }
   ],
   "source": [
    "y_MR = [float(x) for x in data['Strain'][0].replace('[', '').replace(']', '').strip().split(', ')]\n",
    "y_NH = [float(x) for x in data['Strain'][1].replace('[', '').replace(']', '').strip().split(', ')]\n",
    "print(y_MR, y_NH)"
   ]
  },
  {
   "cell_type": "code",
   "execution_count": 28,
   "id": "d6816b21",
   "metadata": {},
   "outputs": [
    {
     "data": {
      "image/png": "[encoded data removed]",
      "text/plain": [
       "<Figure size 432x288 with 1 Axes>"
      ]
     },
     "metadata": {
      "needs_background": "light"
     },
     "output_type": "display_data"
    }
   ],
   "source": [
    "plt.plot(x_MR, y_MR[:-1], label = 'Mooney-Rivlin ' + '-mu_1 ' + str(data['-mu_1'][0]) + ' -mu_2 ' + str(data['-mu_2'][0]) + ' -K '+ str(data['-K'][0]))\n",
    "plt.plot(x_NH, y_NH[:-1], label = 'Neo-Hookean ' + '-E ' + str(data['-E'][1]) + ' -nu ' + str(data['-nu'][1]))\n",
    "plt.legend()\n",
    "plt.xlabel('Load Increment')\n",
    "plt.ylabel('Strain Energy')\n",
    "plt.savefig('log_csv/20210602_strain_plot_MRvsNH.pdf', bbox_inches = 'tight')"
   ]
  },
  {
   "cell_type": "code",
   "execution_count": 3,
   "id": "8705379d",
   "metadata": {},
   "outputs": [
    {
     "name": "stdout",
     "output_type": "stream",
     "text": [
      "[(0.5, 'FSInitial-NH1', 0.1), (0.5, 'FSInitial-NH1', 0.2), (0.5, 'FSInitial-NH1', 0.3), (0.5, 'FSInitial-MR1', 0.1), (0.5, 'FSInitial-MR1', 0.2), (0.5, 'FSInitial-MR1', 0.3), (0.3, 'FSInitial-NH1', 0.1), (0.3, 'FSInitial-NH1', 0.2), (0.3, 'FSInitial-NH1', 0.3), (0.3, 'FSInitial-MR1', 0.1), (0.3, 'FSInitial-MR1', 0.2), (0.3, 'FSInitial-MR1', 0.3), (0.2, 'FSInitial-NH1', 0.1), (0.2, 'FSInitial-NH1', 0.2), (0.2, 'FSInitial-NH1', 0.3), (0.2, 'FSInitial-MR1', 0.1), (0.2, 'FSInitial-MR1', 0.2), (0.2, 'FSInitial-MR1', 0.3)]\n"
     ]
    }
   ],
   "source": [
    "#itertools testing\n",
    "\n",
    "E = [0.5, 0.3, 0.2]\n",
    "problem = ['FSInitial-NH1', 'FSInitial-MR1']\n",
    "nu = [0.1, 0.2, 0.3]\n",
    "\n",
    "print(list(itertools.product(E, problem, nu)))"
   ]
  },
  {
   "cell_type": "code",
   "execution_count": null,
   "id": "4a120d74",
   "metadata": {},
   "outputs": [],
   "source": []
  }
 ],
 "metadata": {
  "kernelspec": {
   "display_name": "Python 3",
   "language": "python",
   "name": "python3"
  },
  "language_info": {
   "codemirror_mode": {
    "name": "ipython",
    "version": 3
   },
   "file_extension": ".py",
   "mimetype": "text/x-python",
   "name": "python",
   "nbconvert_exporter": "python",
   "pygments_lexer": "ipython3",
   "version": "3.8.5"
  }
 },
 "nbformat": 4,
 "nbformat_minor": 5
}
