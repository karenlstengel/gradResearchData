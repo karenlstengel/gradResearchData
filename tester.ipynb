{
 "cells": [
  {
   "cell_type": "markdown",
   "id": "7f910970",
   "metadata": {},
   "source": [
    "## Notebook for testing various functions"
   ]
  },
  {
   "cell_type": "code",
   "execution_count": 14,
   "id": "9fcc3f11",
   "metadata": {},
   "outputs": [
    {
     "name": "stdout",
     "output_type": "stream",
     "text": [
      "[3.846153846153846]\n",
      "hi\n",
      "hi\n",
      "hi\n",
      "([0.3], [10.0], [3.846153846153846], [0.0], [8.333333333333332])\n"
     ]
    }
   ],
   "source": [
    "import numpy as np\n",
    "\n",
    "# G = mu (in posson's ratio wiki)\n",
    "nu = [0.3]\n",
    "E = []#[round(3*K[0] - 6*K[0]*nu[0], 3)]\n",
    "\n",
    "mu1 = [3.846153846153846] #[3.846153846153846] # -mu_1 3.846153846153846 -mu_2 0 -K 8.33333, [E[0]/(2 + 2*nu[0])]\n",
    "mu2 = [0.0]\n",
    "K = [] #[E[0]/(3 - 6*nu[0])] #[round((2*(mu1[0]+mu2[0])+ 2*(mu1[0]+mu2[0])*nu[0])/(3- 6*nu[0]), 3)], [E[0]/(3 - 6*nu[0])]\n",
    "\n",
    "\n",
    "def getMaterialParameters(nu, E, mu1, mu2, K, mu_div = None):\n",
    "    mus = []\n",
    "    mu = []\n",
    "    if len(mu1) != 0:\n",
    "        mus.append(mu1[0])\n",
    "    elif len(mu2) != 0:\n",
    "        mus.append(mu2[0])\n",
    "    if len(mus) != 0:\n",
    "        mu.append(np.sum(mus))\n",
    "    print(mu)\n",
    "    \n",
    "    if len(nu) != 0 and len(E) != 0:\n",
    "        if len(mu) == 0:\n",
    "            mu.append( E[0]/(2 + 2*nu[0]) )\n",
    "            print(mu)\n",
    "        if len(K) == 0:\n",
    "            K.append( E[0]/(3 - 6*nu[0]) )\n",
    "    \n",
    "    if len(nu) != 0 and len(K) != 0:\n",
    "        print('hi') #mu, E\n",
    "        if len(mu)== 0:\n",
    "            mu.append( (3*K[0] - 6*K[0]*nu[0])/(2 - 2*nu[0]) )\n",
    "        if len(E)== 0:\n",
    "            E.append( 3*K[0] - 6*K[0]*nu[0] )\n",
    "        \n",
    "    if len(nu) != 0 and len(mu) != 0:\n",
    "        print('hi') # K, E\n",
    "        if len(K)== 0:\n",
    "            K.append( (2*mu[0] + 2*mu[0]*nu[0])/(3 - 6*nu[0]) )\n",
    "        if len(E)== 0:\n",
    "            E.append( 2*mu[0] + 2*mu[0]*nu[0] )\n",
    "        \n",
    "    if len(mu) != 0 and len(K) != 0:\n",
    "        print('hi') #E, nu\n",
    "        if len(nu)== 0:\n",
    "            nu.append( (3*K[0] - 2*mu[0])/(6*K[0] + 2*mu[0]) )\n",
    "        if len(E)== 0:\n",
    "            E.append( (9*K[0]*mu[0])/(3*K[0] + mu[0]) )\n",
    "        \n",
    "    if len(mu) != 0 and len(E) != 0:\n",
    "        print('hi') #K, nu\n",
    "        if len(nu)== 0:\n",
    "            nu.append( E[0]/(2*mu[0]) - 1 )\n",
    "        if len(K)== 0:\n",
    "            K.append( (E[0]*mu[0])/(9*mu[0] - 3*E[0]) )\n",
    "    \n",
    "    # split up the mu values into mu1 and mu2\n",
    "    if mu_div is None:\n",
    "        mu_div = 0.5\n",
    "        \n",
    "    if len(mu1) == 0 and len(mu2) == 0:\n",
    "        print(mu)\n",
    "        mu1.append(mu[0]/mu_div)\n",
    "        mu2.append(mu[0] - mu1[0])\n",
    "        \n",
    "    return nu, E, mu1, mu2, K\n",
    "\n",
    "\n",
    "print(getMaterialParameters(nu, E, mu1, mu2, K, 1.0))"
   ]
  },
  {
   "cell_type": "code",
   "execution_count": null,
   "id": "ea9bf4be",
   "metadata": {},
   "outputs": [],
   "source": []
  }
 ],
 "metadata": {
  "kernelspec": {
   "display_name": "Python 3",
   "language": "python",
   "name": "python3"
  },
  "language_info": {
   "codemirror_mode": {
    "name": "ipython",
    "version": 3
   },
   "file_extension": ".py",
   "mimetype": "text/x-python",
   "name": "python",
   "nbconvert_exporter": "python",
   "pygments_lexer": "ipython3",
   "version": "3.7.10"
  }
 },
 "nbformat": 4,
 "nbformat_minor": 5
}
